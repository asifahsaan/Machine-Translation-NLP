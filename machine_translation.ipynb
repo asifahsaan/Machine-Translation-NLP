{
  "cells": [
    {
      "cell_type": "markdown",
      "metadata": {
        "id": "view-in-github",
        "colab_type": "text"
      },
      "source": [
        "<a href=\"https://colab.research.google.com/github/asifahsaan/Machine-Translation-NLP/blob/master/machine_translation.ipynb\" target=\"_parent\"><img src=\"https://colab.research.google.com/assets/colab-badge.svg\" alt=\"Open In Colab\"/></a>"
      ]
    },
    {
      "cell_type": "code",
      "execution_count": null,
      "metadata": {
        "id": "XxZCvGswmCbk"
      },
      "outputs": [],
      "source": [
        "import collections\n",
        "\n",
        "import helper\n",
        "import numpy as np\n",
        "import project_tests as tests\n",
        "\n",
        "from keras.preprocessing.text import Tokenizer\n",
        "from tensorflow.keras.preprocessing.sequence import pad_sequences\n",
        "\n",
        "from keras.models import Model\n",
        "from keras.layers import GRU, Input, Dense, TimeDistributed, Activation, RepeatVector, Bidirectional,LSTM\n",
        "from tensorflow.keras.layers import Embedding\n",
        "from keras.optimizers import Adam\n",
        "from keras.losses import sparse_categorical_crossentropy\n",
        "from keras.models import Sequential"
      ]
    },
    {
      "cell_type": "code",
      "source": [
        "import pandas as pd\n",
        "import numpy as np"
      ],
      "metadata": {
        "id": "OSnkMqdGyuWI"
      },
      "execution_count": null,
      "outputs": []
    },
    {
      "cell_type": "code",
      "source": [
        "data = pd.read_csv(\"eng_-french.csv\")\n",
        "data"
      ],
      "metadata": {
        "colab": {
          "base_uri": "https://localhost:8080/",
          "height": 424
        },
        "id": "KdsjusZfy0I3",
        "outputId": "a0aafd22-2124-4e6e-adde-70a9e90b698c"
      },
      "execution_count": null,
      "outputs": [
        {
          "output_type": "execute_result",
          "data": {
            "text/plain": [
              "                                  English words/sentences  \\\n",
              "0                                                     Hi.   \n",
              "1                                                    Run!   \n",
              "2                                                    Run!   \n",
              "3                                                    Who?   \n",
              "4                                                    Wow!   \n",
              "...                                                   ...   \n",
              "175616  Top-down economics never works, said Obama. \"T...   \n",
              "175617  A carbon footprint is the amount of carbon dio...   \n",
              "175618  Death is something that we're often discourage...   \n",
              "175619  Since there are usually multiple websites on a...   \n",
              "175620  If someone who doesn't know your background sa...   \n",
              "\n",
              "                                   French words/sentences  \n",
              "0                                                  Salut!  \n",
              "1                                                 Cours !  \n",
              "2                                                Courez !  \n",
              "3                                                   Qui ?  \n",
              "4                                              Ça alors !  \n",
              "...                                                   ...  \n",
              "175616  « L'économie en partant du haut vers le bas, ç...  \n",
              "175617  Une empreinte carbone est la somme de pollutio...  \n",
              "175618  La mort est une chose qu'on nous décourage sou...  \n",
              "175619  Puisqu'il y a de multiples sites web sur chaqu...  \n",
              "175620  Si quelqu'un qui ne connaît pas vos antécédent...  \n",
              "\n",
              "[175621 rows x 2 columns]"
            ],
            "text/html": [
              "\n",
              "  <div id=\"df-0af08393-558e-4d3b-807d-a70ebb20caea\">\n",
              "    <div class=\"colab-df-container\">\n",
              "      <div>\n",
              "<style scoped>\n",
              "    .dataframe tbody tr th:only-of-type {\n",
              "        vertical-align: middle;\n",
              "    }\n",
              "\n",
              "    .dataframe tbody tr th {\n",
              "        vertical-align: top;\n",
              "    }\n",
              "\n",
              "    .dataframe thead th {\n",
              "        text-align: right;\n",
              "    }\n",
              "</style>\n",
              "<table border=\"1\" class=\"dataframe\">\n",
              "  <thead>\n",
              "    <tr style=\"text-align: right;\">\n",
              "      <th></th>\n",
              "      <th>English words/sentences</th>\n",
              "      <th>French words/sentences</th>\n",
              "    </tr>\n",
              "  </thead>\n",
              "  <tbody>\n",
              "    <tr>\n",
              "      <th>0</th>\n",
              "      <td>Hi.</td>\n",
              "      <td>Salut!</td>\n",
              "    </tr>\n",
              "    <tr>\n",
              "      <th>1</th>\n",
              "      <td>Run!</td>\n",
              "      <td>Cours !</td>\n",
              "    </tr>\n",
              "    <tr>\n",
              "      <th>2</th>\n",
              "      <td>Run!</td>\n",
              "      <td>Courez !</td>\n",
              "    </tr>\n",
              "    <tr>\n",
              "      <th>3</th>\n",
              "      <td>Who?</td>\n",
              "      <td>Qui ?</td>\n",
              "    </tr>\n",
              "    <tr>\n",
              "      <th>4</th>\n",
              "      <td>Wow!</td>\n",
              "      <td>Ça alors !</td>\n",
              "    </tr>\n",
              "    <tr>\n",
              "      <th>...</th>\n",
              "      <td>...</td>\n",
              "      <td>...</td>\n",
              "    </tr>\n",
              "    <tr>\n",
              "      <th>175616</th>\n",
              "      <td>Top-down economics never works, said Obama. \"T...</td>\n",
              "      <td>« L'économie en partant du haut vers le bas, ç...</td>\n",
              "    </tr>\n",
              "    <tr>\n",
              "      <th>175617</th>\n",
              "      <td>A carbon footprint is the amount of carbon dio...</td>\n",
              "      <td>Une empreinte carbone est la somme de pollutio...</td>\n",
              "    </tr>\n",
              "    <tr>\n",
              "      <th>175618</th>\n",
              "      <td>Death is something that we're often discourage...</td>\n",
              "      <td>La mort est une chose qu'on nous décourage sou...</td>\n",
              "    </tr>\n",
              "    <tr>\n",
              "      <th>175619</th>\n",
              "      <td>Since there are usually multiple websites on a...</td>\n",
              "      <td>Puisqu'il y a de multiples sites web sur chaqu...</td>\n",
              "    </tr>\n",
              "    <tr>\n",
              "      <th>175620</th>\n",
              "      <td>If someone who doesn't know your background sa...</td>\n",
              "      <td>Si quelqu'un qui ne connaît pas vos antécédent...</td>\n",
              "    </tr>\n",
              "  </tbody>\n",
              "</table>\n",
              "<p>175621 rows × 2 columns</p>\n",
              "</div>\n",
              "      <button class=\"colab-df-convert\" onclick=\"convertToInteractive('df-0af08393-558e-4d3b-807d-a70ebb20caea')\"\n",
              "              title=\"Convert this dataframe to an interactive table.\"\n",
              "              style=\"display:none;\">\n",
              "        \n",
              "  <svg xmlns=\"http://www.w3.org/2000/svg\" height=\"24px\"viewBox=\"0 0 24 24\"\n",
              "       width=\"24px\">\n",
              "    <path d=\"M0 0h24v24H0V0z\" fill=\"none\"/>\n",
              "    <path d=\"M18.56 5.44l.94 2.06.94-2.06 2.06-.94-2.06-.94-.94-2.06-.94 2.06-2.06.94zm-11 1L8.5 8.5l.94-2.06 2.06-.94-2.06-.94L8.5 2.5l-.94 2.06-2.06.94zm10 10l.94 2.06.94-2.06 2.06-.94-2.06-.94-.94-2.06-.94 2.06-2.06.94z\"/><path d=\"M17.41 7.96l-1.37-1.37c-.4-.4-.92-.59-1.43-.59-.52 0-1.04.2-1.43.59L10.3 9.45l-7.72 7.72c-.78.78-.78 2.05 0 2.83L4 21.41c.39.39.9.59 1.41.59.51 0 1.02-.2 1.41-.59l7.78-7.78 2.81-2.81c.8-.78.8-2.07 0-2.86zM5.41 20L4 18.59l7.72-7.72 1.47 1.35L5.41 20z\"/>\n",
              "  </svg>\n",
              "      </button>\n",
              "      \n",
              "  <style>\n",
              "    .colab-df-container {\n",
              "      display:flex;\n",
              "      flex-wrap:wrap;\n",
              "      gap: 12px;\n",
              "    }\n",
              "\n",
              "    .colab-df-convert {\n",
              "      background-color: #E8F0FE;\n",
              "      border: none;\n",
              "      border-radius: 50%;\n",
              "      cursor: pointer;\n",
              "      display: none;\n",
              "      fill: #1967D2;\n",
              "      height: 32px;\n",
              "      padding: 0 0 0 0;\n",
              "      width: 32px;\n",
              "    }\n",
              "\n",
              "    .colab-df-convert:hover {\n",
              "      background-color: #E2EBFA;\n",
              "      box-shadow: 0px 1px 2px rgba(60, 64, 67, 0.3), 0px 1px 3px 1px rgba(60, 64, 67, 0.15);\n",
              "      fill: #174EA6;\n",
              "    }\n",
              "\n",
              "    [theme=dark] .colab-df-convert {\n",
              "      background-color: #3B4455;\n",
              "      fill: #D2E3FC;\n",
              "    }\n",
              "\n",
              "    [theme=dark] .colab-df-convert:hover {\n",
              "      background-color: #434B5C;\n",
              "      box-shadow: 0px 1px 3px 1px rgba(0, 0, 0, 0.15);\n",
              "      filter: drop-shadow(0px 1px 2px rgba(0, 0, 0, 0.3));\n",
              "      fill: #FFFFFF;\n",
              "    }\n",
              "  </style>\n",
              "\n",
              "      <script>\n",
              "        const buttonEl =\n",
              "          document.querySelector('#df-0af08393-558e-4d3b-807d-a70ebb20caea button.colab-df-convert');\n",
              "        buttonEl.style.display =\n",
              "          google.colab.kernel.accessAllowed ? 'block' : 'none';\n",
              "\n",
              "        async function convertToInteractive(key) {\n",
              "          const element = document.querySelector('#df-0af08393-558e-4d3b-807d-a70ebb20caea');\n",
              "          const dataTable =\n",
              "            await google.colab.kernel.invokeFunction('convertToInteractive',\n",
              "                                                     [key], {});\n",
              "          if (!dataTable) return;\n",
              "\n",
              "          const docLinkHtml = 'Like what you see? Visit the ' +\n",
              "            '<a target=\"_blank\" href=https://colab.research.google.com/notebooks/data_table.ipynb>data table notebook</a>'\n",
              "            + ' to learn more about interactive tables.';\n",
              "          element.innerHTML = '';\n",
              "          dataTable['output_type'] = 'display_data';\n",
              "          await google.colab.output.renderOutput(dataTable, element);\n",
              "          const docLink = document.createElement('div');\n",
              "          docLink.innerHTML = docLinkHtml;\n",
              "          element.appendChild(docLink);\n",
              "        }\n",
              "      </script>\n",
              "    </div>\n",
              "  </div>\n",
              "  "
            ]
          },
          "metadata": {},
          "execution_count": 9
        }
      ]
    },
    {
      "cell_type": "code",
      "source": [
        "data['english_sentences'] = data['English words/sentences'].str.split().str.len()\n",
        "data['french_sentences'] = data['French words/sentences'].str.split().str.len()"
      ],
      "metadata": {
        "id": "13IEaDKRcFuW"
      },
      "execution_count": null,
      "outputs": []
    },
    {
      "cell_type": "code",
      "source": [
        "data"
      ],
      "metadata": {
        "colab": {
          "base_uri": "https://localhost:8080/",
          "height": 554
        },
        "id": "Ai4N0wLRcpR6",
        "outputId": "7316c7eb-f502-413f-d7f8-e954ad22f730"
      },
      "execution_count": null,
      "outputs": [
        {
          "output_type": "execute_result",
          "data": {
            "text/plain": [
              "                                  English words/sentences  \\\n",
              "0                                                     Hi.   \n",
              "1                                                    Run!   \n",
              "2                                                    Run!   \n",
              "3                                                    Who?   \n",
              "4                                                    Wow!   \n",
              "...                                                   ...   \n",
              "175616  Top-down economics never works, said Obama. \"T...   \n",
              "175617  A carbon footprint is the amount of carbon dio...   \n",
              "175618  Death is something that we're often discourage...   \n",
              "175619  Since there are usually multiple websites on a...   \n",
              "175620  If someone who doesn't know your background sa...   \n",
              "\n",
              "                                   French words/sentences  english_sentences  \\\n",
              "0                                                  Salut!                  1   \n",
              "1                                                 Cours !                  1   \n",
              "2                                                Courez !                  1   \n",
              "3                                                   Qui ?                  1   \n",
              "4                                              Ça alors !                  1   \n",
              "...                                                   ...                ...   \n",
              "175616  « L'économie en partant du haut vers le bas, ç...                 34   \n",
              "175617  Une empreinte carbone est la somme de pollutio...                 34   \n",
              "175618  La mort est une chose qu'on nous décourage sou...                 37   \n",
              "175619  Puisqu'il y a de multiples sites web sur chaqu...                 43   \n",
              "175620  Si quelqu'un qui ne connaît pas vos antécédent...                 44   \n",
              "\n",
              "        french_sentences  \n",
              "0                      1  \n",
              "1                      2  \n",
              "2                      2  \n",
              "3                      2  \n",
              "4                      3  \n",
              "...                  ...  \n",
              "175616                47  \n",
              "175617                33  \n",
              "175618                47  \n",
              "175619                49  \n",
              "175620                55  \n",
              "\n",
              "[175621 rows x 4 columns]"
            ],
            "text/html": [
              "\n",
              "  <div id=\"df-b2aa66dd-bb79-4eb3-abd6-77e9438324b5\">\n",
              "    <div class=\"colab-df-container\">\n",
              "      <div>\n",
              "<style scoped>\n",
              "    .dataframe tbody tr th:only-of-type {\n",
              "        vertical-align: middle;\n",
              "    }\n",
              "\n",
              "    .dataframe tbody tr th {\n",
              "        vertical-align: top;\n",
              "    }\n",
              "\n",
              "    .dataframe thead th {\n",
              "        text-align: right;\n",
              "    }\n",
              "</style>\n",
              "<table border=\"1\" class=\"dataframe\">\n",
              "  <thead>\n",
              "    <tr style=\"text-align: right;\">\n",
              "      <th></th>\n",
              "      <th>English words/sentences</th>\n",
              "      <th>French words/sentences</th>\n",
              "      <th>english_sentences</th>\n",
              "      <th>french_sentences</th>\n",
              "    </tr>\n",
              "  </thead>\n",
              "  <tbody>\n",
              "    <tr>\n",
              "      <th>0</th>\n",
              "      <td>Hi.</td>\n",
              "      <td>Salut!</td>\n",
              "      <td>1</td>\n",
              "      <td>1</td>\n",
              "    </tr>\n",
              "    <tr>\n",
              "      <th>1</th>\n",
              "      <td>Run!</td>\n",
              "      <td>Cours !</td>\n",
              "      <td>1</td>\n",
              "      <td>2</td>\n",
              "    </tr>\n",
              "    <tr>\n",
              "      <th>2</th>\n",
              "      <td>Run!</td>\n",
              "      <td>Courez !</td>\n",
              "      <td>1</td>\n",
              "      <td>2</td>\n",
              "    </tr>\n",
              "    <tr>\n",
              "      <th>3</th>\n",
              "      <td>Who?</td>\n",
              "      <td>Qui ?</td>\n",
              "      <td>1</td>\n",
              "      <td>2</td>\n",
              "    </tr>\n",
              "    <tr>\n",
              "      <th>4</th>\n",
              "      <td>Wow!</td>\n",
              "      <td>Ça alors !</td>\n",
              "      <td>1</td>\n",
              "      <td>3</td>\n",
              "    </tr>\n",
              "    <tr>\n",
              "      <th>...</th>\n",
              "      <td>...</td>\n",
              "      <td>...</td>\n",
              "      <td>...</td>\n",
              "      <td>...</td>\n",
              "    </tr>\n",
              "    <tr>\n",
              "      <th>175616</th>\n",
              "      <td>Top-down economics never works, said Obama. \"T...</td>\n",
              "      <td>« L'économie en partant du haut vers le bas, ç...</td>\n",
              "      <td>34</td>\n",
              "      <td>47</td>\n",
              "    </tr>\n",
              "    <tr>\n",
              "      <th>175617</th>\n",
              "      <td>A carbon footprint is the amount of carbon dio...</td>\n",
              "      <td>Une empreinte carbone est la somme de pollutio...</td>\n",
              "      <td>34</td>\n",
              "      <td>33</td>\n",
              "    </tr>\n",
              "    <tr>\n",
              "      <th>175618</th>\n",
              "      <td>Death is something that we're often discourage...</td>\n",
              "      <td>La mort est une chose qu'on nous décourage sou...</td>\n",
              "      <td>37</td>\n",
              "      <td>47</td>\n",
              "    </tr>\n",
              "    <tr>\n",
              "      <th>175619</th>\n",
              "      <td>Since there are usually multiple websites on a...</td>\n",
              "      <td>Puisqu'il y a de multiples sites web sur chaqu...</td>\n",
              "      <td>43</td>\n",
              "      <td>49</td>\n",
              "    </tr>\n",
              "    <tr>\n",
              "      <th>175620</th>\n",
              "      <td>If someone who doesn't know your background sa...</td>\n",
              "      <td>Si quelqu'un qui ne connaît pas vos antécédent...</td>\n",
              "      <td>44</td>\n",
              "      <td>55</td>\n",
              "    </tr>\n",
              "  </tbody>\n",
              "</table>\n",
              "<p>175621 rows × 4 columns</p>\n",
              "</div>\n",
              "      <button class=\"colab-df-convert\" onclick=\"convertToInteractive('df-b2aa66dd-bb79-4eb3-abd6-77e9438324b5')\"\n",
              "              title=\"Convert this dataframe to an interactive table.\"\n",
              "              style=\"display:none;\">\n",
              "        \n",
              "  <svg xmlns=\"http://www.w3.org/2000/svg\" height=\"24px\"viewBox=\"0 0 24 24\"\n",
              "       width=\"24px\">\n",
              "    <path d=\"M0 0h24v24H0V0z\" fill=\"none\"/>\n",
              "    <path d=\"M18.56 5.44l.94 2.06.94-2.06 2.06-.94-2.06-.94-.94-2.06-.94 2.06-2.06.94zm-11 1L8.5 8.5l.94-2.06 2.06-.94-2.06-.94L8.5 2.5l-.94 2.06-2.06.94zm10 10l.94 2.06.94-2.06 2.06-.94-2.06-.94-.94-2.06-.94 2.06-2.06.94z\"/><path d=\"M17.41 7.96l-1.37-1.37c-.4-.4-.92-.59-1.43-.59-.52 0-1.04.2-1.43.59L10.3 9.45l-7.72 7.72c-.78.78-.78 2.05 0 2.83L4 21.41c.39.39.9.59 1.41.59.51 0 1.02-.2 1.41-.59l7.78-7.78 2.81-2.81c.8-.78.8-2.07 0-2.86zM5.41 20L4 18.59l7.72-7.72 1.47 1.35L5.41 20z\"/>\n",
              "  </svg>\n",
              "      </button>\n",
              "      \n",
              "  <style>\n",
              "    .colab-df-container {\n",
              "      display:flex;\n",
              "      flex-wrap:wrap;\n",
              "      gap: 12px;\n",
              "    }\n",
              "\n",
              "    .colab-df-convert {\n",
              "      background-color: #E8F0FE;\n",
              "      border: none;\n",
              "      border-radius: 50%;\n",
              "      cursor: pointer;\n",
              "      display: none;\n",
              "      fill: #1967D2;\n",
              "      height: 32px;\n",
              "      padding: 0 0 0 0;\n",
              "      width: 32px;\n",
              "    }\n",
              "\n",
              "    .colab-df-convert:hover {\n",
              "      background-color: #E2EBFA;\n",
              "      box-shadow: 0px 1px 2px rgba(60, 64, 67, 0.3), 0px 1px 3px 1px rgba(60, 64, 67, 0.15);\n",
              "      fill: #174EA6;\n",
              "    }\n",
              "\n",
              "    [theme=dark] .colab-df-convert {\n",
              "      background-color: #3B4455;\n",
              "      fill: #D2E3FC;\n",
              "    }\n",
              "\n",
              "    [theme=dark] .colab-df-convert:hover {\n",
              "      background-color: #434B5C;\n",
              "      box-shadow: 0px 1px 3px 1px rgba(0, 0, 0, 0.15);\n",
              "      filter: drop-shadow(0px 1px 2px rgba(0, 0, 0, 0.3));\n",
              "      fill: #FFFFFF;\n",
              "    }\n",
              "  </style>\n",
              "\n",
              "      <script>\n",
              "        const buttonEl =\n",
              "          document.querySelector('#df-b2aa66dd-bb79-4eb3-abd6-77e9438324b5 button.colab-df-convert');\n",
              "        buttonEl.style.display =\n",
              "          google.colab.kernel.accessAllowed ? 'block' : 'none';\n",
              "\n",
              "        async function convertToInteractive(key) {\n",
              "          const element = document.querySelector('#df-b2aa66dd-bb79-4eb3-abd6-77e9438324b5');\n",
              "          const dataTable =\n",
              "            await google.colab.kernel.invokeFunction('convertToInteractive',\n",
              "                                                     [key], {});\n",
              "          if (!dataTable) return;\n",
              "\n",
              "          const docLinkHtml = 'Like what you see? Visit the ' +\n",
              "            '<a target=\"_blank\" href=https://colab.research.google.com/notebooks/data_table.ipynb>data table notebook</a>'\n",
              "            + ' to learn more about interactive tables.';\n",
              "          element.innerHTML = '';\n",
              "          dataTable['output_type'] = 'display_data';\n",
              "          await google.colab.output.renderOutput(dataTable, element);\n",
              "          const docLink = document.createElement('div');\n",
              "          docLink.innerHTML = docLinkHtml;\n",
              "          element.appendChild(docLink);\n",
              "        }\n",
              "      </script>\n",
              "    </div>\n",
              "  </div>\n",
              "  "
            ]
          },
          "metadata": {},
          "execution_count": 11
        }
      ]
    },
    {
      "cell_type": "code",
      "source": [
        "data = data.drop_duplicates()"
      ],
      "metadata": {
        "id": "_sEXlz1rcshx"
      },
      "execution_count": null,
      "outputs": []
    },
    {
      "cell_type": "code",
      "source": [
        "from sklearn.model_selection import train_test_split\n",
        "\n",
        "train, test = train_test_split(data, test_size=0.2)"
      ],
      "metadata": {
        "id": "jQabi4mFc85f"
      },
      "execution_count": null,
      "outputs": []
    },
    {
      "cell_type": "code",
      "source": [
        "print(data['english_sentences'].max(), data['french_sentences'].max())"
      ],
      "metadata": {
        "colab": {
          "base_uri": "https://localhost:8080/"
        },
        "id": "sZkGlzjEdO84",
        "outputId": "15e87cef-39b4-410a-dbc5-e02257982302"
      },
      "execution_count": null,
      "outputs": [
        {
          "output_type": "stream",
          "name": "stdout",
          "text": [
            "44 55\n"
          ]
        }
      ]
    },
    {
      "cell_type": "code",
      "source": [
        "train, valid = train_test_split(train, test_size=0.2)"
      ],
      "metadata": {
        "id": "czoUnI7ldZEn"
      },
      "execution_count": null,
      "outputs": []
    },
    {
      "cell_type": "code",
      "source": [
        "def get_data(raw_lines):\n",
        "  text=[]\n",
        "  for raw_line in raw_lines:\n",
        "    text.append('<start>' + raw_line + '<end>')\n",
        "  return text"
      ],
      "metadata": {
        "id": "_pKQQxUwdpi9"
      },
      "execution_count": null,
      "outputs": []
    },
    {
      "cell_type": "code",
      "source": [
        "eng_train = get_data(list(train['English words/sentences']))"
      ],
      "metadata": {
        "id": "zTwN-BuHd_8p"
      },
      "execution_count": null,
      "outputs": []
    },
    {
      "cell_type": "code",
      "source": [
        "fre_train = get_data(list(train['French words/sentences']))"
      ],
      "metadata": {
        "id": "P9CEqu_UeUTZ"
      },
      "execution_count": null,
      "outputs": []
    },
    {
      "cell_type": "code",
      "source": [
        "eng_valid = get_data(list(train['English words/sentences']))\n",
        "fre_valid = get_data(list(train['French words/sentences']))"
      ],
      "metadata": {
        "id": "1S4x-MepeeE6"
      },
      "execution_count": null,
      "outputs": []
    },
    {
      "cell_type": "code",
      "source": [
        "from tensorflow.keras.preprocessing.text import Tokenizer\n",
        "from tensorflow.keras.preprocessing.sequence import pad_sequences"
      ],
      "metadata": {
        "id": "bJKZ8OaveoUf"
      },
      "execution_count": null,
      "outputs": []
    },
    {
      "cell_type": "code",
      "source": [
        "#tokenizing and padding input data\n",
        "fre_token = Tokenizer(filters = '', lower = False)\n",
        "fre_token.fit_on_texts(fre_train)\n",
        "fre_tokenized = fre_token.texts_to_sequences(fre_train)\n",
        "fre_padded = pad_sequences(fre_tokenized, padding='post')\n",
        "\n",
        "#tokenizing and padding target data\n",
        "eng_token = Tokenizer(filters = '', lower = False)\n",
        "eng_token.fit_on_texts(eng_train)\n",
        "eng_tokenized = eng_token.texts_to_sequences(eng_train)\n",
        "eng_padded = pad_sequences(fre_tokenized, padding='post')"
      ],
      "metadata": {
        "id": "u73ZHXC-eyUv"
      },
      "execution_count": null,
      "outputs": []
    },
    {
      "cell_type": "code",
      "source": [
        "#number of unique tokens in input and output languages\n",
        "num_opTokens = len(fre_token.word_index)\n",
        "num_ipTokens = len(eng_token.word_index)\n",
        "\n",
        "#max length of a sentence in both lang\n",
        "max_len_op = fre_padded.shape[1]\n",
        "max_len_ip = eng_padded.shape[1]"
      ],
      "metadata": {
        "id": "fmq0dXHZfpym"
      },
      "execution_count": null,
      "outputs": []
    },
    {
      "cell_type": "code",
      "source": [
        "fre_train[0]"
      ],
      "metadata": {
        "colab": {
          "base_uri": "https://localhost:8080/",
          "height": 35
        },
        "id": "8ctSxWfbgX6D",
        "outputId": "35ac2640-5ba7-4e66-8dc1-74b2827c7561"
      },
      "execution_count": null,
      "outputs": [
        {
          "output_type": "execute_result",
          "data": {
            "text/plain": [
              "'<start>Tom a quitté sa voiture.<end>'"
            ],
            "application/vnd.google.colaboratory.intrinsic+json": {
              "type": "string"
            }
          },
          "metadata": {},
          "execution_count": 24
        }
      ]
    },
    {
      "cell_type": "code",
      "source": [
        "#num of unique tokens in both language\n",
        "print(num_opTokens, num_ipTokens)"
      ],
      "metadata": {
        "colab": {
          "base_uri": "https://localhost:8080/"
        },
        "id": "FovjwpFhgtaa",
        "outputId": "651281b8-049f-4c45-a9eb-eb5a3c72c064"
      },
      "execution_count": null,
      "outputs": [
        {
          "output_type": "stream",
          "name": "stdout",
          "text": [
            "40287 23885\n"
          ]
        }
      ]
    },
    {
      "cell_type": "code",
      "source": [
        "#max length of sentence in both language\n",
        "print(max_len_op, max_len_ip)"
      ],
      "metadata": {
        "colab": {
          "base_uri": "https://localhost:8080/"
        },
        "id": "GJoYXIWVgaN_",
        "outputId": "2b861881-dcbd-4609-f356-d75b274c055c"
      },
      "execution_count": null,
      "outputs": [
        {
          "output_type": "stream",
          "name": "stdout",
          "text": [
            "55 55\n"
          ]
        }
      ]
    },
    {
      "cell_type": "code",
      "source": [
        "!pip install ktext"
      ],
      "metadata": {
        "id": "5I1kBu9pg2aB"
      },
      "execution_count": null,
      "outputs": []
    },
    {
      "cell_type": "code",
      "source": [
        "!pip install joblib"
      ],
      "metadata": {
        "id": "qqBf-0VXiJsd"
      },
      "execution_count": null,
      "outputs": []
    },
    {
      "cell_type": "code",
      "source": [
        "!pip install --upgrade keras"
      ],
      "metadata": {
        "colab": {
          "base_uri": "https://localhost:8080/"
        },
        "id": "brcE9dSXnmYt",
        "outputId": "4a3711df-2d82-48ca-8e6e-ec552bcb0c73"
      },
      "execution_count": null,
      "outputs": [
        {
          "output_type": "stream",
          "name": "stdout",
          "text": [
            "Looking in indexes: https://pypi.org/simple, https://us-python.pkg.dev/colab-wheels/public/simple/\n",
            "Requirement already satisfied: keras in /usr/local/lib/python3.10/dist-packages (2.12.0)\n"
          ]
        }
      ]
    },
    {
      "cell_type": "code",
      "source": [
        "import joblib"
      ],
      "metadata": {
        "id": "CmknI1pQ4lNP"
      },
      "execution_count": null,
      "outputs": []
    },
    {
      "cell_type": "code",
      "source": [
        "from ktext.preprocess import processor"
      ],
      "metadata": {
        "id": "kqcJGpGahHBd"
      },
      "execution_count": null,
      "outputs": []
    },
    {
      "cell_type": "code",
      "source": [
        "eng_pp = processor(keep_n=25407, padding_maxlen=55)\n",
        "eng_train_vec = eng_pp.fit_transform(eng_train)"
      ],
      "metadata": {
        "colab": {
          "base_uri": "https://localhost:8080/"
        },
        "id": "GmwujlAJg9A1",
        "outputId": "11b96888-5447-411a-cf5b-ec2d2b67267a"
      },
      "execution_count": null,
      "outputs": [
        {
          "output_type": "stream",
          "name": "stderr",
          "text": [
            "WARNING:root:....tokenizing data\n",
            "WARNING:root:(1/2) done. 14 sec\n",
            "WARNING:root:....building corpus\n",
            "WARNING:root:(2/2) done. 0 sec\n",
            "WARNING:root:Finished parsing 112,396 documents.\n",
            "WARNING:root:...fit is finished, beginning transform\n",
            "WARNING:root:...padding data\n",
            "WARNING:root:done. 0 sec\n"
          ]
        }
      ]
    },
    {
      "cell_type": "code",
      "source": [
        "fre_pp = processor(keep_n=41000, padding_maxlen=55, append_indicators=True, padding='post')\n",
        "fre_train_vec = fre_pp.fit_transform(fre_train)"
      ],
      "metadata": {
        "colab": {
          "base_uri": "https://localhost:8080/"
        },
        "id": "fDvd_7k4piDA",
        "outputId": "bae7e44f-3fb5-4cdc-aedb-108d235aef0d"
      },
      "execution_count": null,
      "outputs": [
        {
          "output_type": "stream",
          "name": "stderr",
          "text": [
            "WARNING:root:....tokenizing data\n",
            "WARNING:root:(1/2) done. 23 sec\n",
            "WARNING:root:....building corpus\n",
            "WARNING:root:(2/2) done. 0 sec\n",
            "WARNING:root:Finished parsing 112,396 documents.\n",
            "WARNING:root:...fit is finished, beginning transform\n",
            "WARNING:root:...padding data\n",
            "WARNING:root:done. 0 sec\n"
          ]
        }
      ]
    },
    {
      "cell_type": "code",
      "source": [
        "import dill as dpickle\n",
        "import numpy as np\n",
        "\n",
        "with open('eng_pp.dpkl', 'wb') as f:\n",
        "  dpickle.dump(eng_pp, f)\n",
        "\n",
        "with open('fre_pp.dpkl', 'wb') as f:\n",
        "  dpickle.dump(fre_pp, f)\n",
        "\n",
        "np.save('eng_train_vecs.npy', eng_train_vec)\n",
        "np.save('fre_train_vecs.npy', fre_train_vec)"
      ],
      "metadata": {
        "id": "G_MQwSAnp-mB"
      },
      "execution_count": null,
      "outputs": []
    },
    {
      "cell_type": "code",
      "source": [
        "def load_encoder_input(encoder_np_vecs='eng_train_vecs.npy'):\n",
        "  vectorizedBody = np.load(encoder_np_vecs)\n",
        "  encoder_input_data = vectorizedBody\n",
        "  doc_length  = encoder_input_data.shape[1]\n",
        "\n",
        "  print(f'Shape of encoder input: {encoder_input_data.shape}')\n",
        "  return encoder_input_data, doc_length\n",
        "\n",
        "def load_decoder_input(decoder_np_vecs='fre_train_vecs.npy'):\n",
        "  vectorizedTitle = np.load(decoder_np_vecs)\n",
        "  decoder_input_data = vectorizedTitle[:, :-1]\n",
        "  decoder_target_data = vectorizedTitle[:, :-1]\n",
        "\n",
        "  print(f'Shape of decoder input: {decoder_input_data.shape}')\n",
        "  print(f'Shape of decoder target: {decoder_target_data.shape}')\n",
        "  return decoder_input_data, decoder_target_data"
      ],
      "metadata": {
        "id": "LfX-8849qgEi"
      },
      "execution_count": null,
      "outputs": []
    },
    {
      "cell_type": "code",
      "source": [
        "def load_text_processor(fname='eng_pp.dpkl'):\n",
        "  with open(fname, 'rb') as f:\n",
        "    pp = dpickle.load(f)\n",
        "\n",
        "    numTokens  = max(pp.id2token.keys()) + 1\n",
        "    print(f'Size of vocabulary for {fname} : {numTokens:,}')\n",
        "    return numTokens, pp"
      ],
      "metadata": {
        "id": "dJ13auJIsHfN"
      },
      "execution_count": null,
      "outputs": []
    },
    {
      "cell_type": "code",
      "source": [
        "num_encoder_tokens, eng_pp = load_text_processor('eng_pp.dpkl')\n",
        "num_decoder_tokens, fre_pp = load_text_processor('fre_pp.dpkl')"
      ],
      "metadata": {
        "colab": {
          "base_uri": "https://localhost:8080/"
        },
        "id": "aL4qSXr2si9u",
        "outputId": "73368695-6fca-4d7a-e540-1abdc0cd8c52"
      },
      "execution_count": null,
      "outputs": [
        {
          "output_type": "stream",
          "name": "stdout",
          "text": [
            "Size of vocabulary for eng_pp.dpkl : 12,089\n",
            "Size of vocabulary for fre_pp.dpkl : 19,409\n"
          ]
        }
      ]
    },
    {
      "cell_type": "code",
      "source": [
        "encoder_input_data, doc_length = load_encoder_input('eng_train_vecs.npy')\n",
        "decoder_input_data, decoder_target_data = load_decoder_input('fre_train_vecs.npy')"
      ],
      "metadata": {
        "colab": {
          "base_uri": "https://localhost:8080/"
        },
        "id": "Wga9OJ8Rstto",
        "outputId": "eca36aae-9e06-43b6-9626-c09f188a7e8f"
      },
      "execution_count": null,
      "outputs": [
        {
          "output_type": "stream",
          "name": "stdout",
          "text": [
            "Shape of encoder input: (112396, 55)\n",
            "Shape of decoder input: (112396, 54)\n",
            "Shape of decoder target: (112396, 54)\n"
          ]
        }
      ]
    },
    {
      "cell_type": "code",
      "source": [
        "print('\\noriginal string:\\n', eng_train[0], '\\n')\n",
        "print('\\nAfter preprocessing:\\n', encoder_input_data[0], '\\n')"
      ],
      "metadata": {
        "colab": {
          "base_uri": "https://localhost:8080/"
        },
        "id": "u5w6VOOAtOuM",
        "outputId": "e37755f3-fcec-4951-b041-a949047b499b"
      },
      "execution_count": null,
      "outputs": [
        {
          "output_type": "stream",
          "name": "stdout",
          "text": [
            "\n",
            "original string:\n",
            " <start>Tom left in his car.<end> \n",
            "\n",
            "\n",
            "After preprocessing:\n",
            " [  0   0   0   0   0   0   0   0   0   0   0   0   0   0   0   0   0   0\n",
            "   0   0   0   0   0   0   0   0   0   0   0   0   0   0   0   0   0   0\n",
            "   0   0   0   0   0   0   0   0   0   0   0   0   2  12 180  19  44 128\n",
            "   3] \n",
            "\n"
          ]
        }
      ]
    },
    {
      "cell_type": "code",
      "source": [
        "print('\\noriginal string:\\n', fre_train[0], '\\n')\n",
        "print('After preprocessing:\\n', decoder_input_data[0], '\\n')"
      ],
      "metadata": {
        "colab": {
          "base_uri": "https://localhost:8080/"
        },
        "id": "4pPrdfLUuSAS",
        "outputId": "f2ea08f8-dff6-4880-bd46-875e626d338a"
      },
      "execution_count": null,
      "outputs": [
        {
          "output_type": "stream",
          "name": "stdout",
          "text": [
            "\n",
            "original string:\n",
            " <start>Tom a quitté sa voiture.<end> \n",
            "\n",
            "After preprocessing:\n",
            " [  3   4  21   7 831 102 138   2   5   0   0   0   0   0   0   0   0   0\n",
            "   0   0   0   0   0   0   0   0   0   0   0   0   0   0   0   0   0   0\n",
            "   0   0   0   0   0   0   0   0   0   0   0   0   0   0   0   0   0   0] \n",
            "\n"
          ]
        }
      ]
    },
    {
      "cell_type": "code",
      "source": [
        "from keras.models import Model\n",
        "from keras.layers import Input, LSTM, GRU, Dense, Embedding, Bidirectional, BatchNormalization\n",
        "from keras import optimizers"
      ],
      "metadata": {
        "id": "RHzrU-rWg2iN"
      },
      "execution_count": null,
      "outputs": []
    },
    {
      "cell_type": "code",
      "source": [
        "latent_dim = 300\n",
        "\n",
        "encoder_inputs = Input(shape=(doc_length,), name='Encoder_Input')\n",
        "\n",
        "x = Embedding(num_encoder_tokens, latent_dim, name='Body-Word_Embedding', mask_zero=False)(encoder_inputs)\n",
        "x = BatchNormalization(name='Encoder-Batchnorm-1')(x)\n",
        "\n",
        "_, state_h = GRU(latent_dim, return_state=True, name='Encoder-Last-GRU')(x)\n",
        "\n",
        "encoder_model = Model(inputs=encoder_inputs, outputs=state_h, name='Encoder-Model')\n",
        "\n",
        "seq2seq_encoder_out = encoder_model(encoder_inputs)\n",
        "\n",
        "decoder_inputs = Input(shape=(None,), name='Decoder-Input')\n",
        "dec_emb = Embedding(num_decoder_tokens, latent_dim, name='Decoder-Word-Embedding', mask_zero=False)(decoder_inputs)\n",
        "dec_bn = BatchNormalization(name='Decoder-Batchnorm-1')(dec_emb)\n",
        "\n",
        "decoder_gru  = GRU(latent_dim, return_state=True, return_sequences=True, name='Decoder-GRU')\n",
        "decoder_gru_output, _ = decoder_gru(dec_bn, initial_state=seq2seq_encoder_out)\n",
        "x = BatchNormalization(name='Decoder-Batchnorm-2')(decoder_gru_output)\n",
        "\n",
        "decoder_dense = Dense(num_decoder_tokens, activation='softmax', name='Final-Output-Dense')\n",
        "decoder_outputs = decoder_dense(x)\n",
        "\n",
        "\n",
        "\n",
        "seq2seq_Model = Model([encoder_inputs, decoder_inputs], decoder_outputs)\n",
        "seq2seq_Model.compile(optimizer=optimizers.Nadam(learning_rate=0.001), loss='sparse_categorical_crossentropy')"
      ],
      "metadata": {
        "id": "5O1zxldnvsFh"
      },
      "execution_count": null,
      "outputs": []
    },
    {
      "cell_type": "code",
      "source": [
        "seq2seq_Model.summary()"
      ],
      "metadata": {
        "colab": {
          "base_uri": "https://localhost:8080/"
        },
        "id": "vJN3MqPbyycq",
        "outputId": "dabee3c1-73a4-4879-e44b-41d744b0a47d"
      },
      "execution_count": null,
      "outputs": [
        {
          "output_type": "stream",
          "name": "stdout",
          "text": [
            "Model: \"model\"\n",
            "__________________________________________________________________________________________________\n",
            " Layer (type)                   Output Shape         Param #     Connected to                     \n",
            "==================================================================================================\n",
            " Decoder-Input (InputLayer)     [(None, None)]       0           []                               \n",
            "                                                                                                  \n",
            " Decoder-Word-Embedding (Embedd  (None, None, 300)   5822700     ['Decoder-Input[0][0]']          \n",
            " ing)                                                                                             \n",
            "                                                                                                  \n",
            " Encoder_Input (InputLayer)     [(None, 55)]         0           []                               \n",
            "                                                                                                  \n",
            " Decoder-Batchnorm-1 (BatchNorm  (None, None, 300)   1200        ['Decoder-Word-Embedding[0][0]'] \n",
            " alization)                                                                                       \n",
            "                                                                                                  \n",
            " Encoder-Model (Functional)     (None, 300)          4169700     ['Encoder_Input[0][0]']          \n",
            "                                                                                                  \n",
            " Decoder-GRU (GRU)              [(None, None, 300),  541800      ['Decoder-Batchnorm-1[0][0]',    \n",
            "                                 (None, 300)]                     'Encoder-Model[0][0]']          \n",
            "                                                                                                  \n",
            " Decoder-Batchnorm-2 (BatchNorm  (None, None, 300)   1200        ['Decoder-GRU[0][0]']            \n",
            " alization)                                                                                       \n",
            "                                                                                                  \n",
            " Final-Output-Dense (Dense)     (None, None, 19409)  5842109     ['Decoder-Batchnorm-2[0][0]']    \n",
            "                                                                                                  \n",
            "==================================================================================================\n",
            "Total params: 16,378,709\n",
            "Trainable params: 16,376,909\n",
            "Non-trainable params: 1,800\n",
            "__________________________________________________________________________________________________\n"
          ]
        }
      ]
    },
    {
      "cell_type": "code",
      "source": [
        "from keras.callbacks import CSVLogger, ModelCheckpoint, EarlyStopping\n",
        "\n",
        "script_name_base = 'MT_seq2seq'\n",
        "csv_logger = CSVLogger('{:}.log'.format(script_name_base))\n",
        "model_checkpoint = ModelCheckpoint('{:}.epoch{{epoch:02d}}--val{{val_loss:.5f}}.hdf5'.format(script_name_base), \n",
        "                                   save_best_only=True)\n",
        "early_stopping = EarlyStopping(monitor='val_loss', mode='min', verbose=1, patience=3)\n",
        "\n",
        "batch_size = 1200\n",
        "epochs = 10\n",
        "history = seq2seq_Model.fit([encoder_input_data, decoder_input_data], np.expand_dims(decoder_target_data, axis=-1),\n",
        "                            batch_size=batch_size, epochs=epochs, validation_split=0.12,\n",
        "                            callbacks=[csv_logger, model_checkpoint, early_stopping])"
      ],
      "metadata": {
        "colab": {
          "base_uri": "https://localhost:8080/"
        },
        "id": "_jg2R7E0y7yj",
        "outputId": "17a7ca96-4c8b-4471-9e47-7310a5b52ba1"
      },
      "execution_count": null,
      "outputs": [
        {
          "output_type": "stream",
          "name": "stdout",
          "text": [
            "Epoch 1/10\n",
            "83/83 [==============================] - 127s 1s/step - loss: 2.6370 - val_loss: 8.2670\n",
            "Epoch 2/10\n",
            "83/83 [==============================] - 123s 1s/step - loss: 0.0825 - val_loss: 8.4812\n",
            "Epoch 3/10\n",
            "83/83 [==============================] - 120s 1s/step - loss: 0.0280 - val_loss: 7.7384\n",
            "Epoch 4/10\n",
            "83/83 [==============================] - 119s 1s/step - loss: 0.0119 - val_loss: 6.3780\n",
            "Epoch 5/10\n",
            "83/83 [==============================] - 124s 1s/step - loss: 0.0047 - val_loss: 4.3411\n",
            "Epoch 6/10\n",
            "83/83 [==============================] - 120s 1s/step - loss: 0.0026 - val_loss: 1.8466\n",
            "Epoch 7/10\n",
            "83/83 [==============================] - 119s 1s/step - loss: 0.0019 - val_loss: 0.3769\n",
            "Epoch 8/10\n",
            "83/83 [==============================] - 119s 1s/step - loss: 0.0015 - val_loss: 0.0546\n",
            "Epoch 9/10\n",
            "83/83 [==============================] - 119s 1s/step - loss: 0.0012 - val_loss: 0.0213\n",
            "Epoch 10/10\n",
            "83/83 [==============================] - 119s 1s/step - loss: 0.0010 - val_loss: 0.0169\n"
          ]
        }
      ]
    },
    {
      "cell_type": "code",
      "source": [
        "del seq2seq_Model"
      ],
      "metadata": {
        "id": "YGZCy7fv1asB"
      },
      "execution_count": null,
      "outputs": []
    },
    {
      "cell_type": "code",
      "source": [
        "seq2seq_model = Model([encoder_inputs, decoder_inputs], decoder_outputs)\n",
        "seq2seq_Model.compile(optimizer=optimizers.Nadam(learning_rate=0.001), loss='sparse_categorical_crossentropy')"
      ],
      "metadata": {
        "id": "-kEMcI7xGAZR"
      },
      "execution_count": null,
      "outputs": []
    },
    {
      "cell_type": "code",
      "source": [
        "seq2seq_Model.load_weights('MT_seq2seq.epoch10--val0.01690.hdf5')"
      ],
      "metadata": {
        "id": "iOYyl-IUGTiq"
      },
      "execution_count": null,
      "outputs": []
    },
    {
      "cell_type": "code",
      "source": [
        "def extract_encoder_model(model):\n",
        "  encoder_model = model.get_layer('Encoder-Model')\n",
        "  return encoder_model\n",
        "\n",
        "def extract_decoder_model(model):\n",
        "  latent_dim = model.get_layer('Decoder-Word-Embedding').output_shape[-1]\n",
        "\n",
        "  decoder_inputs = model.get_layer('Decoder-Input').input\n",
        "  dec_emb = model.get_layer('Decoder-Word-Embedding')(decoder_inputs)\n",
        "  dec_bn = model.get_layer('Decoder-Batchnorm-1')(dec_emb)\n",
        "\n",
        "  gru_inference_state_input = Input(shape=(latent_dim,), name='hidden_state_input')\n",
        "\n",
        "  gru_out, gru_state_out = model.get_layer('Decoder-GRU')([dec_bn, gru_inference_state_input])\n",
        "\n",
        "  dec_bn2 = model.get_layer('Decoder-Batchnorm-2')(gru_out)\n",
        "  dense_out = model.get_layer('Final-Output-Dense')(dec_bn2)\n",
        "  decoder_model = Model([decoder_inputs, gru_inference_state_input],\n",
        "                        [dense_out, gru_state_out])\n",
        "  return decoder_model"
      ],
      "metadata": {
        "id": "YexPW5lHGhgD"
      },
      "execution_count": null,
      "outputs": []
    }
  ],
  "metadata": {
    "kernelspec": {
      "display_name": "Python 3",
      "language": "python",
      "name": "python3"
    },
    "language_info": {
      "codemirror_mode": {
        "name": "ipython",
        "version": 3
      },
      "file_extension": ".py",
      "mimetype": "text/x-python",
      "name": "python",
      "nbconvert_exporter": "python",
      "pygments_lexer": "ipython3",
      "version": "3.6.3"
    },
    "colab": {
      "provenance": [],
      "gpuType": "T4",
      "include_colab_link": true
    },
    "accelerator": "GPU",
    "gpuClass": "standard"
  },
  "nbformat": 4,
  "nbformat_minor": 0
}